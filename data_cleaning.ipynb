{
 "cells": [
  {
   "cell_type": "code",
   "execution_count": 1,
   "metadata": {},
   "outputs": [],
   "source": [
    "import pandas as pd"
   ]
  },
  {
   "cell_type": "code",
   "execution_count": 2,
   "metadata": {},
   "outputs": [
    {
     "data": {
      "text/html": [
       "<div>\n",
       "<style scoped>\n",
       "    .dataframe tbody tr th:only-of-type {\n",
       "        vertical-align: middle;\n",
       "    }\n",
       "\n",
       "    .dataframe tbody tr th {\n",
       "        vertical-align: top;\n",
       "    }\n",
       "\n",
       "    .dataframe thead th {\n",
       "        text-align: right;\n",
       "    }\n",
       "</style>\n",
       "<table border=\"1\" class=\"dataframe\">\n",
       "  <thead>\n",
       "    <tr style=\"text-align: right;\">\n",
       "      <th></th>\n",
       "      <th>date</th>\n",
       "      <th>year</th>\n",
       "      <th>site</th>\n",
       "      <th>region</th>\n",
       "      <th>measure</th>\n",
       "      <th>data_value</th>\n",
       "      <th>unit</th>\n",
       "      <th>statistic</th>\n",
       "      <th>dataset</th>\n",
       "    </tr>\n",
       "  </thead>\n",
       "  <tbody>\n",
       "    <tr>\n",
       "      <th>0</th>\n",
       "      <td>1998-01-20</td>\n",
       "      <td>1998</td>\n",
       "      <td>Taiaroa Head (50km offshore)</td>\n",
       "      <td>Otago</td>\n",
       "      <td>Salinity</td>\n",
       "      <td>3.426800e+01</td>\n",
       "      <td>NaN</td>\n",
       "      <td>Mean</td>\n",
       "      <td>Munida</td>\n",
       "    </tr>\n",
       "    <tr>\n",
       "      <th>1</th>\n",
       "      <td>1998-01-20</td>\n",
       "      <td>1998</td>\n",
       "      <td>Taiaroa Head (50km offshore)</td>\n",
       "      <td>Otago</td>\n",
       "      <td>Total alkalinity</td>\n",
       "      <td>2.288700e+03</td>\n",
       "      <td>umol/kg-1</td>\n",
       "      <td>Value</td>\n",
       "      <td>Munida</td>\n",
       "    </tr>\n",
       "    <tr>\n",
       "      <th>2</th>\n",
       "      <td>1998-01-20</td>\n",
       "      <td>1998</td>\n",
       "      <td>Taiaroa Head (50km offshore)</td>\n",
       "      <td>Otago</td>\n",
       "      <td>Dissolved inorganic carbon</td>\n",
       "      <td>2.084500e+03</td>\n",
       "      <td>umol/kg-1</td>\n",
       "      <td>Value</td>\n",
       "      <td>Munida</td>\n",
       "    </tr>\n",
       "    <tr>\n",
       "      <th>3</th>\n",
       "      <td>1998-01-20</td>\n",
       "      <td>1998</td>\n",
       "      <td>Taiaroa Head (50km offshore)</td>\n",
       "      <td>Otago</td>\n",
       "      <td>pH</td>\n",
       "      <td>8.094800e+00</td>\n",
       "      <td>NaN</td>\n",
       "      <td>Value</td>\n",
       "      <td>Munida</td>\n",
       "    </tr>\n",
       "    <tr>\n",
       "      <th>4</th>\n",
       "      <td>1998-01-20</td>\n",
       "      <td>1998</td>\n",
       "      <td>Taiaroa Head (50km offshore)</td>\n",
       "      <td>Otago</td>\n",
       "      <td>Hydrogen ion conc</td>\n",
       "      <td>8.039500e-09</td>\n",
       "      <td>mol/kg-1</td>\n",
       "      <td>Value</td>\n",
       "      <td>Munida</td>\n",
       "    </tr>\n",
       "  </tbody>\n",
       "</table>\n",
       "</div>"
      ],
      "text/plain": [
       "         date  year                          site region  \\\n",
       "0  1998-01-20  1998  Taiaroa Head (50km offshore)  Otago   \n",
       "1  1998-01-20  1998  Taiaroa Head (50km offshore)  Otago   \n",
       "2  1998-01-20  1998  Taiaroa Head (50km offshore)  Otago   \n",
       "3  1998-01-20  1998  Taiaroa Head (50km offshore)  Otago   \n",
       "4  1998-01-20  1998  Taiaroa Head (50km offshore)  Otago   \n",
       "\n",
       "                      measure    data_value       unit statistic dataset  \n",
       "0                    Salinity  3.426800e+01        NaN      Mean  Munida  \n",
       "1            Total alkalinity  2.288700e+03  umol/kg-1     Value  Munida  \n",
       "2  Dissolved inorganic carbon  2.084500e+03  umol/kg-1     Value  Munida  \n",
       "3                          pH  8.094800e+00        NaN     Value  Munida  \n",
       "4           Hydrogen ion conc  8.039500e-09   mol/kg-1     Value  Munida  "
      ]
     },
     "execution_count": 2,
     "metadata": {},
     "output_type": "execute_result"
    }
   ],
   "source": [
    "df = pd.read_csv('ocean-acidification-munida-state-1998-2020.csv')\n",
    "df.head()"
   ]
  },
  {
   "cell_type": "code",
   "execution_count": 3,
   "metadata": {},
   "outputs": [
    {
     "name": "stdout",
     "output_type": "stream",
     "text": [
      "<class 'pandas.core.frame.DataFrame'>\n",
      "RangeIndex: 1088 entries, 0 to 1087\n",
      "Data columns (total 9 columns):\n",
      " #   Column      Non-Null Count  Dtype  \n",
      "---  ------      --------------  -----  \n",
      " 0   date        1088 non-null   object \n",
      " 1   year        1088 non-null   int64  \n",
      " 2   site        1088 non-null   object \n",
      " 3   region      1088 non-null   object \n",
      " 4   measure     1088 non-null   object \n",
      " 5   data_value  1037 non-null   float64\n",
      " 6   unit        680 non-null    object \n",
      " 7   statistic   1088 non-null   object \n",
      " 8   dataset     1088 non-null   object \n",
      "dtypes: float64(1), int64(1), object(7)\n",
      "memory usage: 76.6+ KB\n"
     ]
    }
   ],
   "source": [
    "df.info()"
   ]
  },
  {
   "cell_type": "code",
   "execution_count": 4,
   "metadata": {},
   "outputs": [
    {
     "data": {
      "text/plain": [
       "date          136\n",
       "year           24\n",
       "site            1\n",
       "region          1\n",
       "measure         8\n",
       "data_value    849\n",
       "unit            4\n",
       "statistic       2\n",
       "dataset         1\n",
       "dtype: int64"
      ]
     },
     "execution_count": 4,
     "metadata": {},
     "output_type": "execute_result"
    }
   ],
   "source": [
    "df.nunique()"
   ]
  },
  {
   "cell_type": "code",
   "execution_count": 5,
   "metadata": {},
   "outputs": [
    {
     "name": "stdout",
     "output_type": "stream",
     "text": [
      "[nan 'umol/kg-1' 'mol/kg-1' 'uatm' 'Degrees Celsius']\n"
     ]
    }
   ],
   "source": [
    "unique_units = df['unit'].unique()\n",
    "print(unique_units)"
   ]
  },
  {
   "cell_type": "code",
   "execution_count": null,
   "metadata": {},
   "outputs": [],
   "source": []
  }
 ],
 "metadata": {
  "kernelspec": {
   "display_name": "data_5630",
   "language": "python",
   "name": "python3"
  },
  "language_info": {
   "codemirror_mode": {
    "name": "ipython",
    "version": 3
   },
   "file_extension": ".py",
   "mimetype": "text/x-python",
   "name": "python",
   "nbconvert_exporter": "python",
   "pygments_lexer": "ipython3",
   "version": "3.10.15"
  }
 },
 "nbformat": 4,
 "nbformat_minor": 2
}
