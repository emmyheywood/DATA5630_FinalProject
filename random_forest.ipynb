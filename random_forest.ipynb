{
 "cells": [
  {
   "cell_type": "code",
   "execution_count": 178,
   "metadata": {},
   "outputs": [],
   "source": [
    "import pandas as pd\n",
    "import numpy as np"
   ]
  },
  {
   "cell_type": "code",
   "execution_count": 179,
   "metadata": {},
   "outputs": [],
   "source": [
    "from sklearn.model_selection import train_test_split\n",
    "from sklearn.ensemble import RandomForestRegressor\n",
    "from sklearn.metrics import mean_squared_error, mean_absolute_error, mean_absolute_percentage_error"
   ]
  },
  {
   "cell_type": "code",
   "execution_count": 180,
   "metadata": {},
   "outputs": [
    {
     "data": {
      "text/html": [
       "<div>\n",
       "<style scoped>\n",
       "    .dataframe tbody tr th:only-of-type {\n",
       "        vertical-align: middle;\n",
       "    }\n",
       "\n",
       "    .dataframe tbody tr th {\n",
       "        vertical-align: top;\n",
       "    }\n",
       "\n",
       "    .dataframe thead th {\n",
       "        text-align: right;\n",
       "    }\n",
       "</style>\n",
       "<table border=\"1\" class=\"dataframe\">\n",
       "  <thead>\n",
       "    <tr style=\"text-align: right;\">\n",
       "      <th></th>\n",
       "      <th>date</th>\n",
       "      <th>year</th>\n",
       "      <th>site</th>\n",
       "      <th>region</th>\n",
       "      <th>measure</th>\n",
       "      <th>data_value</th>\n",
       "      <th>unit</th>\n",
       "      <th>statistic</th>\n",
       "      <th>dataset</th>\n",
       "    </tr>\n",
       "  </thead>\n",
       "  <tbody>\n",
       "    <tr>\n",
       "      <th>0</th>\n",
       "      <td>1998-01-20</td>\n",
       "      <td>1998</td>\n",
       "      <td>Taiaroa Head (50km offshore)</td>\n",
       "      <td>Otago</td>\n",
       "      <td>Salinity</td>\n",
       "      <td>3.426800e+01</td>\n",
       "      <td>NaN</td>\n",
       "      <td>Mean</td>\n",
       "      <td>Munida</td>\n",
       "    </tr>\n",
       "    <tr>\n",
       "      <th>1</th>\n",
       "      <td>1998-01-20</td>\n",
       "      <td>1998</td>\n",
       "      <td>Taiaroa Head (50km offshore)</td>\n",
       "      <td>Otago</td>\n",
       "      <td>Total alkalinity</td>\n",
       "      <td>2.288700e+03</td>\n",
       "      <td>umol/kg-1</td>\n",
       "      <td>Value</td>\n",
       "      <td>Munida</td>\n",
       "    </tr>\n",
       "    <tr>\n",
       "      <th>2</th>\n",
       "      <td>1998-01-20</td>\n",
       "      <td>1998</td>\n",
       "      <td>Taiaroa Head (50km offshore)</td>\n",
       "      <td>Otago</td>\n",
       "      <td>Dissolved inorganic carbon</td>\n",
       "      <td>2.084500e+03</td>\n",
       "      <td>umol/kg-1</td>\n",
       "      <td>Value</td>\n",
       "      <td>Munida</td>\n",
       "    </tr>\n",
       "    <tr>\n",
       "      <th>3</th>\n",
       "      <td>1998-01-20</td>\n",
       "      <td>1998</td>\n",
       "      <td>Taiaroa Head (50km offshore)</td>\n",
       "      <td>Otago</td>\n",
       "      <td>pH</td>\n",
       "      <td>8.094800e+00</td>\n",
       "      <td>NaN</td>\n",
       "      <td>Value</td>\n",
       "      <td>Munida</td>\n",
       "    </tr>\n",
       "    <tr>\n",
       "      <th>4</th>\n",
       "      <td>1998-01-20</td>\n",
       "      <td>1998</td>\n",
       "      <td>Taiaroa Head (50km offshore)</td>\n",
       "      <td>Otago</td>\n",
       "      <td>Hydrogen ion conc</td>\n",
       "      <td>8.039500e-09</td>\n",
       "      <td>mol/kg-1</td>\n",
       "      <td>Value</td>\n",
       "      <td>Munida</td>\n",
       "    </tr>\n",
       "  </tbody>\n",
       "</table>\n",
       "</div>"
      ],
      "text/plain": [
       "         date  year                          site region  \\\n",
       "0  1998-01-20  1998  Taiaroa Head (50km offshore)  Otago   \n",
       "1  1998-01-20  1998  Taiaroa Head (50km offshore)  Otago   \n",
       "2  1998-01-20  1998  Taiaroa Head (50km offshore)  Otago   \n",
       "3  1998-01-20  1998  Taiaroa Head (50km offshore)  Otago   \n",
       "4  1998-01-20  1998  Taiaroa Head (50km offshore)  Otago   \n",
       "\n",
       "                      measure    data_value       unit statistic dataset  \n",
       "0                    Salinity  3.426800e+01        NaN      Mean  Munida  \n",
       "1            Total alkalinity  2.288700e+03  umol/kg-1     Value  Munida  \n",
       "2  Dissolved inorganic carbon  2.084500e+03  umol/kg-1     Value  Munida  \n",
       "3                          pH  8.094800e+00        NaN     Value  Munida  \n",
       "4           Hydrogen ion conc  8.039500e-09   mol/kg-1     Value  Munida  "
      ]
     },
     "execution_count": 180,
     "metadata": {},
     "output_type": "execute_result"
    }
   ],
   "source": [
    "df = pd.read_csv('ocean-acidification-munida-state-1998-2020.csv')\n",
    "df.head()"
   ]
  },
  {
   "cell_type": "code",
   "execution_count": 181,
   "metadata": {},
   "outputs": [
    {
     "name": "stdout",
     "output_type": "stream",
     "text": [
      "<class 'pandas.core.frame.DataFrame'>\n",
      "RangeIndex: 1088 entries, 0 to 1087\n",
      "Data columns (total 9 columns):\n",
      " #   Column      Non-Null Count  Dtype  \n",
      "---  ------      --------------  -----  \n",
      " 0   date        1088 non-null   object \n",
      " 1   year        1088 non-null   int64  \n",
      " 2   site        1088 non-null   object \n",
      " 3   region      1088 non-null   object \n",
      " 4   measure     1088 non-null   object \n",
      " 5   data_value  1037 non-null   float64\n",
      " 6   unit        680 non-null    object \n",
      " 7   statistic   1088 non-null   object \n",
      " 8   dataset     1088 non-null   object \n",
      "dtypes: float64(1), int64(1), object(7)\n",
      "memory usage: 76.6+ KB\n"
     ]
    }
   ],
   "source": [
    "df.info()"
   ]
  },
  {
   "cell_type": "code",
   "execution_count": 182,
   "metadata": {},
   "outputs": [
    {
     "data": {
      "text/plain": [
       "date          136\n",
       "year           24\n",
       "site            1\n",
       "region          1\n",
       "measure         8\n",
       "data_value    849\n",
       "unit            4\n",
       "statistic       2\n",
       "dataset         1\n",
       "dtype: int64"
      ]
     },
     "execution_count": 182,
     "metadata": {},
     "output_type": "execute_result"
    }
   ],
   "source": [
    "df.nunique()"
   ]
  },
  {
   "cell_type": "code",
   "execution_count": 183,
   "metadata": {},
   "outputs": [
    {
     "data": {
      "text/plain": [
       "date            0\n",
       "year            0\n",
       "site            0\n",
       "region          0\n",
       "measure         0\n",
       "data_value     51\n",
       "unit          408\n",
       "statistic       0\n",
       "dataset         0\n",
       "dtype: int64"
      ]
     },
     "execution_count": 183,
     "metadata": {},
     "output_type": "execute_result"
    }
   ],
   "source": [
    "df.isna().sum()"
   ]
  },
  {
   "cell_type": "code",
   "execution_count": 184,
   "metadata": {},
   "outputs": [
    {
     "data": {
      "text/plain": [
       "1088"
      ]
     },
     "execution_count": 184,
     "metadata": {},
     "output_type": "execute_result"
    }
   ],
   "source": [
    "len(df)"
   ]
  },
  {
   "cell_type": "code",
   "execution_count": 185,
   "metadata": {},
   "outputs": [
    {
     "data": {
      "text/plain": [
       "136.0"
      ]
     },
     "execution_count": 185,
     "metadata": {},
     "output_type": "execute_result"
    }
   ],
   "source": [
    "1088/8"
   ]
  },
  {
   "cell_type": "code",
   "execution_count": 186,
   "metadata": {},
   "outputs": [
    {
     "data": {
      "text/html": [
       "<div>\n",
       "<style scoped>\n",
       "    .dataframe tbody tr th:only-of-type {\n",
       "        vertical-align: middle;\n",
       "    }\n",
       "\n",
       "    .dataframe tbody tr th {\n",
       "        vertical-align: top;\n",
       "    }\n",
       "\n",
       "    .dataframe thead th {\n",
       "        text-align: right;\n",
       "    }\n",
       "</style>\n",
       "<table border=\"1\" class=\"dataframe\">\n",
       "  <thead>\n",
       "    <tr style=\"text-align: right;\">\n",
       "      <th></th>\n",
       "      <th>date</th>\n",
       "      <th>year</th>\n",
       "      <th>site</th>\n",
       "      <th>region</th>\n",
       "      <th>measure</th>\n",
       "      <th>data_value</th>\n",
       "      <th>unit</th>\n",
       "      <th>statistic</th>\n",
       "      <th>dataset</th>\n",
       "    </tr>\n",
       "  </thead>\n",
       "  <tbody>\n",
       "    <tr>\n",
       "      <th>3</th>\n",
       "      <td>1998-01-20</td>\n",
       "      <td>1998</td>\n",
       "      <td>Taiaroa Head (50km offshore)</td>\n",
       "      <td>Otago</td>\n",
       "      <td>pH</td>\n",
       "      <td>8.0948</td>\n",
       "      <td>NaN</td>\n",
       "      <td>Value</td>\n",
       "      <td>Munida</td>\n",
       "    </tr>\n",
       "    <tr>\n",
       "      <th>11</th>\n",
       "      <td>1998-02-16</td>\n",
       "      <td>1998</td>\n",
       "      <td>Taiaroa Head (50km offshore)</td>\n",
       "      <td>Otago</td>\n",
       "      <td>pH</td>\n",
       "      <td>8.0906</td>\n",
       "      <td>NaN</td>\n",
       "      <td>Value</td>\n",
       "      <td>Munida</td>\n",
       "    </tr>\n",
       "    <tr>\n",
       "      <th>19</th>\n",
       "      <td>1998-03-17</td>\n",
       "      <td>1998</td>\n",
       "      <td>Taiaroa Head (50km offshore)</td>\n",
       "      <td>Otago</td>\n",
       "      <td>pH</td>\n",
       "      <td>8.1026</td>\n",
       "      <td>NaN</td>\n",
       "      <td>Value</td>\n",
       "      <td>Munida</td>\n",
       "    </tr>\n",
       "    <tr>\n",
       "      <th>27</th>\n",
       "      <td>1998-04-15</td>\n",
       "      <td>1998</td>\n",
       "      <td>Taiaroa Head (50km offshore)</td>\n",
       "      <td>Otago</td>\n",
       "      <td>pH</td>\n",
       "      <td>NaN</td>\n",
       "      <td>NaN</td>\n",
       "      <td>Value</td>\n",
       "      <td>Munida</td>\n",
       "    </tr>\n",
       "    <tr>\n",
       "      <th>35</th>\n",
       "      <td>1998-10-05</td>\n",
       "      <td>1998</td>\n",
       "      <td>Taiaroa Head (50km offshore)</td>\n",
       "      <td>Otago</td>\n",
       "      <td>pH</td>\n",
       "      <td>8.0743</td>\n",
       "      <td>NaN</td>\n",
       "      <td>Value</td>\n",
       "      <td>Munida</td>\n",
       "    </tr>\n",
       "  </tbody>\n",
       "</table>\n",
       "</div>"
      ],
      "text/plain": [
       "          date  year                          site region measure  data_value  \\\n",
       "3   1998-01-20  1998  Taiaroa Head (50km offshore)  Otago      pH      8.0948   \n",
       "11  1998-02-16  1998  Taiaroa Head (50km offshore)  Otago      pH      8.0906   \n",
       "19  1998-03-17  1998  Taiaroa Head (50km offshore)  Otago      pH      8.1026   \n",
       "27  1998-04-15  1998  Taiaroa Head (50km offshore)  Otago      pH         NaN   \n",
       "35  1998-10-05  1998  Taiaroa Head (50km offshore)  Otago      pH      8.0743   \n",
       "\n",
       "   unit statistic dataset  \n",
       "3   NaN     Value  Munida  \n",
       "11  NaN     Value  Munida  \n",
       "19  NaN     Value  Munida  \n",
       "27  NaN     Value  Munida  \n",
       "35  NaN     Value  Munida  "
      ]
     },
     "execution_count": 186,
     "metadata": {},
     "output_type": "execute_result"
    }
   ],
   "source": [
    "df_ph = df[df['measure'] == 'pH'].copy()\n",
    "df_ph.head()"
   ]
  },
  {
   "cell_type": "code",
   "execution_count": 187,
   "metadata": {},
   "outputs": [
    {
     "data": {
      "text/plain": [
       "136"
      ]
     },
     "execution_count": 187,
     "metadata": {},
     "output_type": "execute_result"
    }
   ],
   "source": [
    "len(df_ph)"
   ]
  },
  {
   "cell_type": "code",
   "execution_count": 188,
   "metadata": {},
   "outputs": [
    {
     "data": {
      "text/plain": [
       "date            0\n",
       "year            0\n",
       "site            0\n",
       "region          0\n",
       "measure         0\n",
       "data_value      9\n",
       "unit          136\n",
       "statistic       0\n",
       "dataset         0\n",
       "dtype: int64"
      ]
     },
     "execution_count": 188,
     "metadata": {},
     "output_type": "execute_result"
    }
   ],
   "source": [
    "df_ph.isna().sum()"
   ]
  },
  {
   "cell_type": "markdown",
   "metadata": {},
   "source": [
    "### Data Imputation"
   ]
  },
  {
   "cell_type": "code",
   "execution_count": 189,
   "metadata": {},
   "outputs": [],
   "source": [
    "from sklearn.impute import KNNImputer"
   ]
  },
  {
   "cell_type": "markdown",
   "metadata": {},
   "source": [
    "1. Mean Imputation (fill in missing values with the mean of the column)"
   ]
  },
  {
   "cell_type": "code",
   "execution_count": 190,
   "metadata": {},
   "outputs": [],
   "source": [
    "def impute_mean(data, column):\n",
    "    data[column] = data[column].fillna(data[column].mean())\n",
    "    return data"
   ]
  },
  {
   "cell_type": "markdown",
   "metadata": {},
   "source": [
    "2. Median Imputation (fill in missing values with the median of the column)"
   ]
  },
  {
   "cell_type": "code",
   "execution_count": 191,
   "metadata": {},
   "outputs": [],
   "source": [
    "def impute_median(data, column):\n",
    "    data[column] = data[column].fillna(data[column].median())\n",
    "    return data"
   ]
  },
  {
   "cell_type": "markdown",
   "metadata": {},
   "source": [
    "3. Forward-fill (fill in missing values py propogating the last valid observation forward)"
   ]
  },
  {
   "cell_type": "code",
   "execution_count": 192,
   "metadata": {},
   "outputs": [],
   "source": [
    "def impute_forward_fill(data, column):\n",
    "    data[column] = data[column].fillna(method='ffill')\n",
    "    return data"
   ]
  },
  {
   "cell_type": "markdown",
   "metadata": {},
   "source": [
    "4. backward-fill (fill in missing values by propogating the next valid observation backwards)"
   ]
  },
  {
   "cell_type": "code",
   "execution_count": 193,
   "metadata": {},
   "outputs": [],
   "source": [
    "def impute_backward_fill(data, column):\n",
    "    data[column] = data[column].fillna(method='bfill')\n",
    "    return data"
   ]
  },
  {
   "cell_type": "markdown",
   "metadata": {},
   "source": [
    "5. Interpolation (fill in missing values using linear interpolation)"
   ]
  },
  {
   "cell_type": "code",
   "execution_count": 194,
   "metadata": {},
   "outputs": [],
   "source": [
    "def impute_interpolation(data, column):\n",
    "    data[column] = data[column].interpolate(method='linear')\n",
    "    return data"
   ]
  },
  {
   "cell_type": "markdown",
   "metadata": {},
   "source": [
    "6. Custom average (fill in missing values using the average of the value before and value after)\n",
    "- edge cases with consecutive missing values are handled using the average of the two preceding values or using forward-fill as a fallback"
   ]
  },
  {
   "cell_type": "code",
   "execution_count": 195,
   "metadata": {},
   "outputs": [],
   "source": [
    "def impute_surrounding_average(data, column):\n",
    "    # Reset index temporarily to avoid index mismatch issues\n",
    "    data = data.reset_index(drop=True)\n",
    "    \n",
    "    def surrounding_avg(series):\n",
    "        for idx in series[series.isnull()].index:\n",
    "            # If we can calculate the average of the values before and after\n",
    "            if idx > 0 and idx < len(series) - 1 and not np.isnan(series[idx - 1]) and not np.isnan(series[idx + 1]):\n",
    "                series[idx] = (series[idx - 1] + series[idx + 1]) / 2\n",
    "            # Fallback: Use the average of two preceding values if possible\n",
    "            elif idx > 1 and not np.isnan(series[idx - 1]) and not np.isnan(series[idx - 2]):\n",
    "                series[idx] = (series[idx - 1] + series[idx - 2]) / 2\n",
    "            # Final fallback: Forward-fill (use the last valid value)\n",
    "            elif idx > 0:\n",
    "                series[idx] = series[idx - 1]\n",
    "        return series\n",
    "\n",
    "    # Apply the surrounding average logic\n",
    "    data[column] = surrounding_avg(data[column])\n",
    "    data[column] = data[column].fillna(method='ffill')  # Ensure no NaNs remain with forward-fill\n",
    "    return data\n"
   ]
  },
  {
   "cell_type": "markdown",
   "metadata": {},
   "source": [
    "7. KNN Imputation (fill in missing values using K-Neareest Neighbors imputation)"
   ]
  },
  {
   "cell_type": "code",
   "execution_count": 196,
   "metadata": {},
   "outputs": [],
   "source": [
    "def impute_knn(data, column, n_neighbors=5):\n",
    "    imputer = KNNImputer(n_neighbors=n_neighbors)\n",
    "    data[[column]] = imputer.fit_transform(data[[column]])\n",
    "    return data"
   ]
  },
  {
   "cell_type": "markdown",
   "metadata": {},
   "source": [
    "### Best Methods to fill in missing data in this case from ChatGPT:\n",
    "1. Custom Average (surrounding average): Maintains local trends, avoids unrealistic values\n",
    "2. Linear Interpolation: provides smooth estimate, preserves trend without overcomplicating imputation\n",
    "3. Forward Fill: simple and aligns well with random forest, doesn't introduce artificial variability\n",
    "4. KNN Imputation: uses patterns from data to estimate missing values, exploits relationships between features"
   ]
  },
  {
   "cell_type": "markdown",
   "metadata": {},
   "source": [
    "# The model"
   ]
  },
  {
   "cell_type": "code",
   "execution_count": 197,
   "metadata": {},
   "outputs": [],
   "source": [
    "def random_forest_time_series(data, target_col, n_lags=3, test_size=0.2, n_estimators=100):\n",
    "    \"\"\"\n",
    "    Train a Random Forest model for time-series prediction with customizable parameters.\n",
    "    \n",
    "    Parameters:\n",
    "        data (pd.DataFrame): The dataset containing the time-series data.\n",
    "        target_col (str): The column name of the target variable.\n",
    "        n_lags (int): Number of lagged features to create.\n",
    "        test_size (float): Proportion of the data to use for testing (0 to 1).\n",
    "        n_estimators (int): Number of trees in the Random Forest.\n",
    "\n",
    "    Returns:\n",
    "        model (RandomForestRegressor): Trained Random Forest model.\n",
    "        y_test (pd.Series): True target values for the test set.\n",
    "        y_pred (np.ndarray): Predicted target values for the test set.\n",
    "        metrics (dict): A dictionary containing RMSE, MSE, MAE, and MAPE.\n",
    "    \"\"\"\n",
    "    # Create lagged features\n",
    "    for lag in range(1, n_lags + 1):\n",
    "        data[f'lag_{lag}'] = data[target_col].shift(lag)\n",
    "\n",
    "    # Drop rows with NaN values resulting from lagging\n",
    "    data = data.dropna()\n",
    "\n",
    "    # Define predictors and target\n",
    "    X = data[[f'lag_{i}' for i in range(1, n_lags + 1)]]\n",
    "    y = data[target_col]\n",
    "\n",
    "    # Train-test split\n",
    "    X_train, X_test, y_train, y_test = train_test_split(X, y, test_size=test_size, shuffle=False)\n",
    "\n",
    "    # Train the Random Forest model\n",
    "    model = RandomForestRegressor(n_estimators=n_estimators, random_state=42)\n",
    "    model.fit(X_train, y_train)\n",
    "\n",
    "    # Make predictions\n",
    "    y_pred = model.predict(X_test)\n",
    "\n",
    "    # Calculate metrics\n",
    "    mse = mean_squared_error(y_test, y_pred)\n",
    "    rmse = mse ** 0.5\n",
    "    mae = mean_absolute_error(y_test, y_pred)\n",
    "    mape = (abs((y_test - y_pred) / y_test).mean()) * 100\n",
    "\n",
    "    metrics = {\n",
    "        \"MSE\": mse,\n",
    "        \"RMSE\": rmse,\n",
    "        \"MAE\": mae,\n",
    "        \"MAPE\": mape\n",
    "    }\n",
    "\n",
    "    return model, y_test, y_pred, metrics\n"
   ]
  },
  {
   "cell_type": "code",
   "execution_count": 198,
   "metadata": {},
   "outputs": [
    {
     "data": {
      "text/plain": [
       "Index(['date', 'year', 'site', 'region', 'measure', 'data_value', 'unit',\n",
       "       'statistic', 'dataset'],\n",
       "      dtype='object')"
      ]
     },
     "execution_count": 198,
     "metadata": {},
     "output_type": "execute_result"
    }
   ],
   "source": [
    "df_ph.columns"
   ]
  },
  {
   "cell_type": "code",
   "execution_count": 199,
   "metadata": {},
   "outputs": [
    {
     "data": {
      "text/html": [
       "<div>\n",
       "<style scoped>\n",
       "    .dataframe tbody tr th:only-of-type {\n",
       "        vertical-align: middle;\n",
       "    }\n",
       "\n",
       "    .dataframe tbody tr th {\n",
       "        vertical-align: top;\n",
       "    }\n",
       "\n",
       "    .dataframe thead th {\n",
       "        text-align: right;\n",
       "    }\n",
       "</style>\n",
       "<table border=\"1\" class=\"dataframe\">\n",
       "  <thead>\n",
       "    <tr style=\"text-align: right;\">\n",
       "      <th></th>\n",
       "      <th>date</th>\n",
       "      <th>year</th>\n",
       "      <th>site</th>\n",
       "      <th>region</th>\n",
       "      <th>measure</th>\n",
       "      <th>data_value</th>\n",
       "      <th>unit</th>\n",
       "      <th>statistic</th>\n",
       "      <th>dataset</th>\n",
       "    </tr>\n",
       "  </thead>\n",
       "  <tbody>\n",
       "    <tr>\n",
       "      <th>3</th>\n",
       "      <td>1998-01-20</td>\n",
       "      <td>1998</td>\n",
       "      <td>Taiaroa Head (50km offshore)</td>\n",
       "      <td>Otago</td>\n",
       "      <td>pH</td>\n",
       "      <td>8.0948</td>\n",
       "      <td>NaN</td>\n",
       "      <td>Value</td>\n",
       "      <td>Munida</td>\n",
       "    </tr>\n",
       "    <tr>\n",
       "      <th>11</th>\n",
       "      <td>1998-02-16</td>\n",
       "      <td>1998</td>\n",
       "      <td>Taiaroa Head (50km offshore)</td>\n",
       "      <td>Otago</td>\n",
       "      <td>pH</td>\n",
       "      <td>8.0906</td>\n",
       "      <td>NaN</td>\n",
       "      <td>Value</td>\n",
       "      <td>Munida</td>\n",
       "    </tr>\n",
       "    <tr>\n",
       "      <th>19</th>\n",
       "      <td>1998-03-17</td>\n",
       "      <td>1998</td>\n",
       "      <td>Taiaroa Head (50km offshore)</td>\n",
       "      <td>Otago</td>\n",
       "      <td>pH</td>\n",
       "      <td>8.1026</td>\n",
       "      <td>NaN</td>\n",
       "      <td>Value</td>\n",
       "      <td>Munida</td>\n",
       "    </tr>\n",
       "    <tr>\n",
       "      <th>27</th>\n",
       "      <td>1998-04-15</td>\n",
       "      <td>1998</td>\n",
       "      <td>Taiaroa Head (50km offshore)</td>\n",
       "      <td>Otago</td>\n",
       "      <td>pH</td>\n",
       "      <td>NaN</td>\n",
       "      <td>NaN</td>\n",
       "      <td>Value</td>\n",
       "      <td>Munida</td>\n",
       "    </tr>\n",
       "    <tr>\n",
       "      <th>35</th>\n",
       "      <td>1998-10-05</td>\n",
       "      <td>1998</td>\n",
       "      <td>Taiaroa Head (50km offshore)</td>\n",
       "      <td>Otago</td>\n",
       "      <td>pH</td>\n",
       "      <td>8.0743</td>\n",
       "      <td>NaN</td>\n",
       "      <td>Value</td>\n",
       "      <td>Munida</td>\n",
       "    </tr>\n",
       "  </tbody>\n",
       "</table>\n",
       "</div>"
      ],
      "text/plain": [
       "          date  year                          site region measure  data_value  \\\n",
       "3   1998-01-20  1998  Taiaroa Head (50km offshore)  Otago      pH      8.0948   \n",
       "11  1998-02-16  1998  Taiaroa Head (50km offshore)  Otago      pH      8.0906   \n",
       "19  1998-03-17  1998  Taiaroa Head (50km offshore)  Otago      pH      8.1026   \n",
       "27  1998-04-15  1998  Taiaroa Head (50km offshore)  Otago      pH         NaN   \n",
       "35  1998-10-05  1998  Taiaroa Head (50km offshore)  Otago      pH      8.0743   \n",
       "\n",
       "   unit statistic dataset  \n",
       "3   NaN     Value  Munida  \n",
       "11  NaN     Value  Munida  \n",
       "19  NaN     Value  Munida  \n",
       "27  NaN     Value  Munida  \n",
       "35  NaN     Value  Munida  "
      ]
     },
     "execution_count": 199,
     "metadata": {},
     "output_type": "execute_result"
    }
   ],
   "source": [
    "df_ph.head()"
   ]
  },
  {
   "cell_type": "code",
   "execution_count": 200,
   "metadata": {},
   "outputs": [
    {
     "data": {
      "text/plain": [
       "3       8.0948\n",
       "11      8.0906\n",
       "19      8.1026\n",
       "27         NaN\n",
       "35      8.0743\n",
       "         ...  \n",
       "1051    8.0435\n",
       "1059    8.0473\n",
       "1067       NaN\n",
       "1075    8.0493\n",
       "1083       NaN\n",
       "Name: data_value, Length: 136, dtype: float64"
      ]
     },
     "execution_count": 200,
     "metadata": {},
     "output_type": "execute_result"
    }
   ],
   "source": [
    "df_ph['data_value']"
   ]
  },
  {
   "cell_type": "code",
   "execution_count": 201,
   "metadata": {},
   "outputs": [
    {
     "name": "stdout",
     "output_type": "stream",
     "text": [
      "<class 'pandas.core.frame.DataFrame'>\n",
      "Index: 136 entries, 3 to 1083\n",
      "Data columns (total 9 columns):\n",
      " #   Column      Non-Null Count  Dtype  \n",
      "---  ------      --------------  -----  \n",
      " 0   date        136 non-null    object \n",
      " 1   year        136 non-null    int64  \n",
      " 2   site        136 non-null    object \n",
      " 3   region      136 non-null    object \n",
      " 4   measure     136 non-null    object \n",
      " 5   data_value  127 non-null    float64\n",
      " 6   unit        0 non-null      object \n",
      " 7   statistic   136 non-null    object \n",
      " 8   dataset     136 non-null    object \n",
      "dtypes: float64(1), int64(1), object(7)\n",
      "memory usage: 10.6+ KB\n"
     ]
    }
   ],
   "source": [
    "df_ph.info()"
   ]
  },
  {
   "cell_type": "code",
   "execution_count": 202,
   "metadata": {},
   "outputs": [
    {
     "data": {
      "text/html": [
       "<div>\n",
       "<style scoped>\n",
       "    .dataframe tbody tr th:only-of-type {\n",
       "        vertical-align: middle;\n",
       "    }\n",
       "\n",
       "    .dataframe tbody tr th {\n",
       "        vertical-align: top;\n",
       "    }\n",
       "\n",
       "    .dataframe thead th {\n",
       "        text-align: right;\n",
       "    }\n",
       "</style>\n",
       "<table border=\"1\" class=\"dataframe\">\n",
       "  <thead>\n",
       "    <tr style=\"text-align: right;\">\n",
       "      <th></th>\n",
       "      <th>date</th>\n",
       "      <th>year</th>\n",
       "      <th>data_value</th>\n",
       "    </tr>\n",
       "  </thead>\n",
       "  <tbody>\n",
       "    <tr>\n",
       "      <th>3</th>\n",
       "      <td>1998-01-20</td>\n",
       "      <td>1998</td>\n",
       "      <td>8.0948</td>\n",
       "    </tr>\n",
       "    <tr>\n",
       "      <th>11</th>\n",
       "      <td>1998-02-16</td>\n",
       "      <td>1998</td>\n",
       "      <td>8.0906</td>\n",
       "    </tr>\n",
       "    <tr>\n",
       "      <th>19</th>\n",
       "      <td>1998-03-17</td>\n",
       "      <td>1998</td>\n",
       "      <td>8.1026</td>\n",
       "    </tr>\n",
       "    <tr>\n",
       "      <th>27</th>\n",
       "      <td>1998-04-15</td>\n",
       "      <td>1998</td>\n",
       "      <td>NaN</td>\n",
       "    </tr>\n",
       "    <tr>\n",
       "      <th>35</th>\n",
       "      <td>1998-10-05</td>\n",
       "      <td>1998</td>\n",
       "      <td>8.0743</td>\n",
       "    </tr>\n",
       "  </tbody>\n",
       "</table>\n",
       "</div>"
      ],
      "text/plain": [
       "          date  year  data_value\n",
       "3   1998-01-20  1998      8.0948\n",
       "11  1998-02-16  1998      8.0906\n",
       "19  1998-03-17  1998      8.1026\n",
       "27  1998-04-15  1998         NaN\n",
       "35  1998-10-05  1998      8.0743"
      ]
     },
     "execution_count": 202,
     "metadata": {},
     "output_type": "execute_result"
    }
   ],
   "source": [
    "df_ph = df_ph.drop(columns=['site', 'region', 'measure', 'unit', 'statistic', 'dataset'])\n",
    "df_ph.head()"
   ]
  },
  {
   "cell_type": "code",
   "execution_count": null,
   "metadata": {},
   "outputs": [],
   "source": [
    "# Export df_ph to CSV\n",
    "# df_ph.to_csv('ocean-acidification-ph-1998-2020.csv')"
   ]
  },
  {
   "cell_type": "code",
   "execution_count": 203,
   "metadata": {},
   "outputs": [
    {
     "name": "stderr",
     "output_type": "stream",
     "text": [
      "/var/folders/h4/82kz_0j95dlf2rnsf3sbdtjh0000gn/T/ipykernel_26190/3015727988.py:9: SettingWithCopyWarning: \n",
      "A value is trying to be set on a copy of a slice from a DataFrame\n",
      "\n",
      "See the caveats in the documentation: https://pandas.pydata.org/pandas-docs/stable/user_guide/indexing.html#returning-a-view-versus-a-copy\n",
      "  series[idx] = (series[idx - 1] + series[idx + 1]) / 2\n",
      "/var/folders/h4/82kz_0j95dlf2rnsf3sbdtjh0000gn/T/ipykernel_26190/3015727988.py:9: SettingWithCopyWarning: \n",
      "A value is trying to be set on a copy of a slice from a DataFrame\n",
      "\n",
      "See the caveats in the documentation: https://pandas.pydata.org/pandas-docs/stable/user_guide/indexing.html#returning-a-view-versus-a-copy\n",
      "  series[idx] = (series[idx - 1] + series[idx + 1]) / 2\n",
      "/var/folders/h4/82kz_0j95dlf2rnsf3sbdtjh0000gn/T/ipykernel_26190/3015727988.py:9: SettingWithCopyWarning: \n",
      "A value is trying to be set on a copy of a slice from a DataFrame\n",
      "\n",
      "See the caveats in the documentation: https://pandas.pydata.org/pandas-docs/stable/user_guide/indexing.html#returning-a-view-versus-a-copy\n",
      "  series[idx] = (series[idx - 1] + series[idx + 1]) / 2\n",
      "/var/folders/h4/82kz_0j95dlf2rnsf3sbdtjh0000gn/T/ipykernel_26190/3015727988.py:9: SettingWithCopyWarning: \n",
      "A value is trying to be set on a copy of a slice from a DataFrame\n",
      "\n",
      "See the caveats in the documentation: https://pandas.pydata.org/pandas-docs/stable/user_guide/indexing.html#returning-a-view-versus-a-copy\n",
      "  series[idx] = (series[idx - 1] + series[idx + 1]) / 2\n",
      "/var/folders/h4/82kz_0j95dlf2rnsf3sbdtjh0000gn/T/ipykernel_26190/3015727988.py:9: SettingWithCopyWarning: \n",
      "A value is trying to be set on a copy of a slice from a DataFrame\n",
      "\n",
      "See the caveats in the documentation: https://pandas.pydata.org/pandas-docs/stable/user_guide/indexing.html#returning-a-view-versus-a-copy\n",
      "  series[idx] = (series[idx - 1] + series[idx + 1]) / 2\n",
      "/var/folders/h4/82kz_0j95dlf2rnsf3sbdtjh0000gn/T/ipykernel_26190/3015727988.py:12: SettingWithCopyWarning: \n",
      "A value is trying to be set on a copy of a slice from a DataFrame\n",
      "\n",
      "See the caveats in the documentation: https://pandas.pydata.org/pandas-docs/stable/user_guide/indexing.html#returning-a-view-versus-a-copy\n",
      "  series[idx] = (series[idx - 1] + series[idx - 2]) / 2\n",
      "/var/folders/h4/82kz_0j95dlf2rnsf3sbdtjh0000gn/T/ipykernel_26190/3015727988.py:9: SettingWithCopyWarning: \n",
      "A value is trying to be set on a copy of a slice from a DataFrame\n",
      "\n",
      "See the caveats in the documentation: https://pandas.pydata.org/pandas-docs/stable/user_guide/indexing.html#returning-a-view-versus-a-copy\n",
      "  series[idx] = (series[idx - 1] + series[idx + 1]) / 2\n",
      "/var/folders/h4/82kz_0j95dlf2rnsf3sbdtjh0000gn/T/ipykernel_26190/3015727988.py:9: SettingWithCopyWarning: \n",
      "A value is trying to be set on a copy of a slice from a DataFrame\n",
      "\n",
      "See the caveats in the documentation: https://pandas.pydata.org/pandas-docs/stable/user_guide/indexing.html#returning-a-view-versus-a-copy\n",
      "  series[idx] = (series[idx - 1] + series[idx + 1]) / 2\n",
      "/var/folders/h4/82kz_0j95dlf2rnsf3sbdtjh0000gn/T/ipykernel_26190/3015727988.py:12: SettingWithCopyWarning: \n",
      "A value is trying to be set on a copy of a slice from a DataFrame\n",
      "\n",
      "See the caveats in the documentation: https://pandas.pydata.org/pandas-docs/stable/user_guide/indexing.html#returning-a-view-versus-a-copy\n",
      "  series[idx] = (series[idx - 1] + series[idx - 2]) / 2\n",
      "/var/folders/h4/82kz_0j95dlf2rnsf3sbdtjh0000gn/T/ipykernel_26190/3015727988.py:20: FutureWarning: Series.fillna with 'method' is deprecated and will raise in a future version. Use obj.ffill() or obj.bfill() instead.\n",
      "  data[column] = data[column].fillna(method='ffill')  # Ensure no NaNs remain with forward-fill\n"
     ]
    }
   ],
   "source": [
    "# fill in missing values using the custom average\n",
    "df_ph_clean = impute_surrounding_average(df_ph, 'data_value')"
   ]
  },
  {
   "cell_type": "code",
   "execution_count": 204,
   "metadata": {},
   "outputs": [
    {
     "data": {
      "text/plain": [
       "date          0\n",
       "year          0\n",
       "data_value    0\n",
       "dtype: int64"
      ]
     },
     "execution_count": 204,
     "metadata": {},
     "output_type": "execute_result"
    }
   ],
   "source": [
    "df_ph_clean.isna().sum()"
   ]
  },
  {
   "cell_type": "code",
   "execution_count": 205,
   "metadata": {},
   "outputs": [
    {
     "data": {
      "text/plain": [
       "(136, 3)"
      ]
     },
     "execution_count": 205,
     "metadata": {},
     "output_type": "execute_result"
    }
   ],
   "source": [
    "df_ph_clean.shape"
   ]
  },
  {
   "cell_type": "code",
   "execution_count": 206,
   "metadata": {},
   "outputs": [
    {
     "name": "stdout",
     "output_type": "stream",
     "text": [
      "Model Metrics:\n",
      "MSE: 0.0004\n",
      "RMSE: 0.0192\n",
      "MAE: 0.0169\n",
      "MAPE: 0.2102\n"
     ]
    }
   ],
   "source": [
    "# Call the modified function\n",
    "model, y_test, y_pred, metrics = random_forest_time_series(\n",
    "    data=df_ph_clean,\n",
    "    target_col='data_value',\n",
    "    n_lags=2,\n",
    "    test_size=0.2,\n",
    "    n_estimators=150\n",
    ")\n",
    "\n",
    "# Display metrics\n",
    "print(\"Model Metrics:\")\n",
    "for key, value in metrics.items():\n",
    "    print(f\"{key}: {value:.4f}\")\n"
   ]
  }
 ],
 "metadata": {
  "kernelspec": {
   "display_name": "data_5630",
   "language": "python",
   "name": "python3"
  },
  "language_info": {
   "codemirror_mode": {
    "name": "ipython",
    "version": 3
   },
   "file_extension": ".py",
   "mimetype": "text/x-python",
   "name": "python",
   "nbconvert_exporter": "python",
   "pygments_lexer": "ipython3",
   "version": "3.10.15"
  }
 },
 "nbformat": 4,
 "nbformat_minor": 2
}
